{
 "cells": [
  {
   "cell_type": "code",
   "execution_count": 1,
   "id": "888cd964-446a-42bb-a00d-c597b2c2ff4c",
   "metadata": {},
   "outputs": [],
   "source": [
    "import requests\n",
    "from bs4 import BeautifulSoup\n",
    "\n",
    "from selenium import webdriver\n",
    "from selenium.webdriver.common.by import By\n",
    "from selenium.webdriver.common.keys import Keys\n",
    "from selenium.webdriver.firefox.service import Service\n",
    "from selenium.webdriver.support.ui import WebDriverWait\n",
    "from selenium.webdriver.support import expected_conditions as EC\n",
    "from bs4 import BeautifulSoup\n",
    "import time\n",
    "import re"
   ]
  },
  {
   "cell_type": "code",
   "execution_count": 262,
   "id": "b2a17116-79fc-45c5-8c17-e993c306f8c7",
   "metadata": {},
   "outputs": [],
   "source": [
    "def get_all_gse_urls(search_result_url, max_results=1e5):\n",
    "        \n",
    "    # initialize the Firefox WebDriver\n",
    "    service = Service()\n",
    "    driver = webdriver.Firefox(service=service)\n",
    "    driver.get(search_result_url)\n",
    "    \n",
    "\n",
    "    # wait for the page to load\n",
    "    WebDriverWait(driver, 10).until(\n",
    "        EC.presence_of_element_located((By.CSS_SELECTOR, \"a[href^='/gds/']\"))\n",
    "    )\n",
    "        \n",
    "    # list to store all result URLs\n",
    "    result_urls = []\n",
    "    \n",
    "    # function to extract URLs from the current page\n",
    "    def extract_urls():\n",
    "        soup = BeautifulSoup(driver.page_source, \"html.parser\")\n",
    "        urls = []\n",
    "        for link in soup.select(\"a[href^='/gds/']\"):\n",
    "            href = link.get(\"href\")\n",
    "            if href and href.startswith(\"/gds/\"):\n",
    "                full_url = \"https://www.ncbi.nlm.nih.gov\" + href\n",
    "                urls.append(full_url)\n",
    "    \n",
    "        return [x for x in urls if 'GSE' in x]\n",
    "    \n",
    "    # extract URLs from the first page\n",
    "    result_urls.extend(extract_urls())\n",
    "    \n",
    "    # loop through all pages\n",
    "    while True:\n",
    "        try:\n",
    "            # stop if we've reached the total number of results (1141)\n",
    "            if len(result_urls) >= max_results:\n",
    "                break\n",
    "                \n",
    "            # find and click the \"Next\" button\n",
    "            next_button = driver.find_element(By.CSS_SELECTOR, \"a.next\")\n",
    "            next_button.click()\n",
    "    \n",
    "            # wait for the next page to load\n",
    "            WebDriverWait(driver, 10).until(\n",
    "                EC.presence_of_element_located((By.CSS_SELECTOR, \"a[href^='/gds/']\"))\n",
    "            )\n",
    "    \n",
    "            # extract URLs from the current page\n",
    "            page_urls = extract_urls()\n",
    "            if not page_urls:\n",
    "                print(\"No more results found.\")\n",
    "                break\n",
    "    \n",
    "            page_urls = [x for x in page_urls if 'GSE' in x]\n",
    "            result_urls.extend(page_urls)\n",
    "        \n",
    "            # Add a small delay to avoid overloading the server\n",
    "            time.sleep(1)\n",
    "    \n",
    "        except Exception as e:\n",
    "            print(f\"All pages were scaned: {e}\")\n",
    "            break\n",
    "    \n",
    "    # Close the browser\n",
    "    driver.quit()\n",
    "\n",
    "    gse_urls = [base_url+f\"/geo/query/acc.cgi?acc={x.split('=')[1].split('[')[0]}\" for x in result_urls if '[' in x]\n",
    "    print(len(gse_urls))\n",
    "    print(len(set(gse_urls)))\n",
    "\n",
    "    return list(set(gse_urls))\n",
    "\n",
    "\n",
    "def get_sar_sel_url(gse_url, base_url=\"https://www.ncbi.nlm.nih.gov\"):\n",
    "    response = requests.get(gse_url)\n",
    "\n",
    "    soup = BeautifulSoup(response.text, 'html.parser')\n",
    "    res = soup.find_all('a', string=re.compile('SRA Run Selector'))\n",
    "    if res:\n",
    "        row = res[0]\n",
    "\n",
    "        sra_sel_url = base_url + str(row).split('\"')[1]\n",
    "        return sra_sel_url\n",
    "\n",
    "\n",
    "def get_srr_ids(srr_url):\n",
    "    driver = webdriver.Firefox()\n",
    "    driver.get(srr_url)\n",
    "    if 0: \n",
    "        WebDriverWait(driver, 10).until(\n",
    "            EC.presence_of_element_located((By.ID, \"ph-rs-pager\")),\n",
    "            EC.presence_of_element_located((By.ID, \"ph-rs-table\"))\n",
    "        )\n",
    "        \n",
    "        WebDriverWait(driver, 10).until(\n",
    "            EC.presence_of_element_located((By.XPATH, \"//table[contains(@class, 'table')]//tbody\"))\n",
    "        )\n",
    "    if 1:\n",
    "        WebDriverWait(driver, 10).until(\n",
    "            EC.presence_of_element_located((By.XPATH, f\"//tr[1]//td[contains(@class, 'is_s')]//div//a\"))\n",
    "        )\n",
    "\n",
    "    i = 0\n",
    "    srr_ids = []\n",
    "    while True:\n",
    "        i += 1\n",
    "        try: \n",
    "            srr = driver.find_element(By.XPATH, f\"//tr[{i}]//td[contains(@class, 'is_s')]//div//a\").text\n",
    "            srr_ids.append(srr)\n",
    "            \n",
    "        except Exception as e:\n",
    "            print(f\"Done retriving all SRR IDs\")\n",
    "            driver.quit()\n",
    "            break\n",
    "    return srr_ids"
   ]
  },
  {
   "cell_type": "code",
   "execution_count": 264,
   "id": "48c8023d-30a6-4a33-a115-024838ddebeb",
   "metadata": {},
   "outputs": [],
   "source": [
    "base_url = \"https://www.ncbi.nlm.nih.gov\""
   ]
  },
  {
   "cell_type": "code",
   "execution_count": 265,
   "id": "52355b16-8aed-4e30-8fc9-c1ca3092f1d2",
   "metadata": {},
   "outputs": [
    {
     "name": "stdout",
     "output_type": "stream",
     "text": [
      "20\n",
      "20\n"
     ]
    }
   ],
   "source": [
    "#search_result_url=\"https://www.ncbi.nlm.nih.gov/gds/?term=human+single-cell+RNA-seq+10x\"\n",
    "search_result_url=\"https://www.ncbi.nlm.nih.gov/gds/?term=(human+single-cell+RNA-seq+10x)+AND+%22Homo+sapiens%22%5Bporgn%3A__txid9606%5D\"\n",
    "\n",
    "### Step 1: Get a list of urls to GSE series pages (Search results -> GSE 'Accession Display' pages)\n",
    "gse_urls = get_all_gse_urls(search_result_url, max_results=1)"
   ]
  },
  {
   "cell_type": "code",
   "execution_count": 267,
   "id": "533ea959-4b69-48ea-88c8-daf0955baf07",
   "metadata": {},
   "outputs": [],
   "source": [
    "### Step 2: Get a list of SRA urls (GSE 'Accession Display' pages -> 'SRA Run Selector' pages)\n",
    "# loop through all GSE urls\n",
    "sra_urls = []\n",
    "for gse in gse_urls[0:4]:\n",
    "    sra_url = get_sar_sel_url(gse_url=gse)\n",
    "    sra_urls.append(sra_url)"
   ]
  },
  {
   "cell_type": "code",
   "execution_count": 271,
   "id": "b4434d58-dcdc-4868-9a17-69a99ae6b79d",
   "metadata": {},
   "outputs": [
    {
     "data": {
      "text/plain": [
       "['https://www.ncbi.nlm.nih.gov/Traces/study/?acc=PRJNA1204337',\n",
       " 'https://www.ncbi.nlm.nih.gov/Traces/study/?acc=PRJNA1143054',\n",
       " 'https://www.ncbi.nlm.nih.gov/Traces/study/?acc=PRJNA988514']"
      ]
     },
     "execution_count": 271,
     "metadata": {},
     "output_type": "execute_result"
    }
   ],
   "source": [
    "[x for x in sra_urls if x is not None]"
   ]
  },
  {
   "cell_type": "code",
   "execution_count": 270,
   "id": "561c66d5-534c-48ee-b71f-baf54103ba6f",
   "metadata": {},
   "outputs": [
    {
     "name": "stdout",
     "output_type": "stream",
     "text": [
      "Done retriving all SRR IDs\n"
     ]
    },
    {
     "data": {
      "text/plain": [
       "['SRR31856351', 'SRR31856352']"
      ]
     },
     "execution_count": 270,
     "metadata": {},
     "output_type": "execute_result"
    }
   ],
   "source": [
    "### Step 3: Get a list of SRR IDs ('SRA Run Selector' pages -> SRR IDs)\n",
    "\n",
    "# Open the SRA Run Selector page\n",
    "sra_url = 'https://www.ncbi.nlm.nih.gov/Traces/study/?acc=PRJNA1204337'\n",
    "get_srr_ids(sra_url)"
   ]
  },
  {
   "cell_type": "code",
   "execution_count": null,
   "id": "55a7869a-9e1e-41f5-a3d8-efb51afb4176",
   "metadata": {},
   "outputs": [],
   "source": []
  },
  {
   "cell_type": "code",
   "execution_count": null,
   "id": "6d134504-af3a-417e-b83e-788e0228b5b7",
   "metadata": {},
   "outputs": [],
   "source": []
  }
 ],
 "metadata": {
  "kernelspec": {
   "display_name": "python310",
   "language": "python",
   "name": "python310"
  },
  "language_info": {
   "codemirror_mode": {
    "name": "ipython",
    "version": 3
   },
   "file_extension": ".py",
   "mimetype": "text/x-python",
   "name": "python",
   "nbconvert_exporter": "python",
   "pygments_lexer": "ipython3",
   "version": "3.10.0"
  }
 },
 "nbformat": 4,
 "nbformat_minor": 5
}
