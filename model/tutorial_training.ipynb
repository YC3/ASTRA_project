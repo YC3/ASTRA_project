{
 "cells": [
  {
   "cell_type": "code",
   "execution_count": 1,
   "id": "6ebff662-bef6-4d36-8648-724029984ab1",
   "metadata": {},
   "outputs": [],
   "source": [
    "import numpy as np\n",
    "import pandas as pd\n",
    "\n",
    "import torch\n",
    "from torch import nn, Tensor\n",
    "import torch.nn.functional as F\n",
    "from torch.nn import Sequential, Linear, ReLU\n",
    "from torch_geometric.nn import SGConv\n",
    "\n",
    "from typing import List\n"
   ]
  },
  {
   "cell_type": "markdown",
   "id": "6639ca13-9b5a-4c58-801f-3373163d83ec",
   "metadata": {},
   "source": [
    "# Data"
   ]
  },
  {
   "cell_type": "code",
   "execution_count": 2,
   "id": "67b1efe5-5df0-49db-a17b-1cb3913dc966",
   "metadata": {},
   "outputs": [],
   "source": [
    "from graph import download_graph_edge_list, create_graph"
   ]
  },
  {
   "cell_type": "code",
   "execution_count": 8,
   "id": "82d38fb2-9be3-49fc-9b48-6f66b97c6980",
   "metadata": {},
   "outputs": [],
   "source": [
    "# download graph data\n",
    "download_graph_edge_list(target_dir = '../data')"
   ]
  },
  {
   "cell_type": "code",
   "execution_count": 3,
   "id": "27c709b6-14d1-4995-a2be-4363934a9f9f",
   "metadata": {},
   "outputs": [
    {
     "name": "stdout",
     "output_type": "stream",
     "text": [
      "tensor([[7, 7, 7, 7, 7, 7, 7, 7, 7, 7],\n",
      "        [7, 3, 9, 0, 6, 8, 2, 5, 4, 1]])\n",
      "tensor([1.0000, 0.1304, 0.1333, 0.2500, 0.1250, 0.1739, 0.1250, 0.2222, 0.1176,\n",
      "        0.1200])\n",
      "['ACTR1B', 'AGL', 'ADAMTSL4', 'ACLY', 'AGA', 'AEBP1', 'ADAMTS20', 'A1BG', 'ADAMTS3', 'ACTR10']\n",
      "{'ACTR1B': 0, 'AGL': 1, 'ADAMTSL4': 2, 'ACLY': 3, 'AGA': 4, 'AEBP1': 5, 'ADAMTS20': 6, 'A1BG': 7, 'ADAMTS3': 8, 'ACTR10': 9}\n"
     ]
    }
   ],
   "source": [
    "# create graph\n",
    "edge_index, edge_weight, gene_list, gene2idx = create_graph('../data/go_essential_all/go_essential_all.csv', topn=10, nrows=10)\n",
    "print(edge_index)\n",
    "print(edge_weight)\n",
    "print(gene_list)\n",
    "print(gene2idx)"
   ]
  },
  {
   "cell_type": "markdown",
   "id": "876d02e3-bb21-43fb-877a-539b1170d5c1",
   "metadata": {},
   "source": [
    "# Model"
   ]
  },
  {
   "cell_type": "code",
   "execution_count": 8,
   "id": "df2d97ff-6111-4ec2-bf22-95fb4101574f",
   "metadata": {},
   "outputs": [],
   "source": [
    "from model import GNN\n",
    "\n",
    "gnn_model = GNN(\n",
    "    genes = gene_list, \n",
    "    seq_len = 3, \n",
    "    d_hid = 2, \n",
    "    edge_index = edge_index, \n",
    "    edge_weight = edge_weight, \n",
    "    gene2idx = gene2idx, \n",
    "    n_gnn_layers = 3,\n",
    "   )"
   ]
  },
  {
   "cell_type": "code",
   "execution_count": 17,
   "id": "77a10a72-6798-440c-a65b-4cfe5b599408",
   "metadata": {},
   "outputs": [
    {
     "name": "stdout",
     "output_type": "stream",
     "text": [
      "tensor([-1.5749,  2.1456,  0.9442])\n",
      "tensor([[ 0.3612,  0.0961, -0.1318]])\n"
     ]
    }
   ],
   "source": [
    "src = torch.randn((10, 3))\n",
    "print(src[gene2idx['ADAMTS3'], :])\n",
    "\n",
    "with torch.no_grad():\n",
    "    res = gnn_model(src, pert_gene='ADAMTS3')\n",
    "print(res)"
   ]
  },
  {
   "cell_type": "code",
   "execution_count": null,
   "id": "7df1e713-a86a-4693-a413-5186a09ec709",
   "metadata": {},
   "outputs": [],
   "source": []
  }
 ],
 "metadata": {
  "kernelspec": {
   "display_name": "Python 3 (ipykernel)",
   "language": "python",
   "name": "python3"
  },
  "language_info": {
   "codemirror_mode": {
    "name": "ipython",
    "version": 3
   },
   "file_extension": ".py",
   "mimetype": "text/x-python",
   "name": "python",
   "nbconvert_exporter": "python",
   "pygments_lexer": "ipython3",
   "version": "3.9.13"
  }
 },
 "nbformat": 4,
 "nbformat_minor": 5
}
