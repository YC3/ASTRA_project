{
 "cells": [
  {
   "cell_type": "code",
   "execution_count": 3,
   "id": "6ebff662-bef6-4d36-8648-724029984ab1",
   "metadata": {},
   "outputs": [],
   "source": [
    "import numpy as np\n",
    "import pandas as pd\n",
    "\n",
    "import torch\n",
    "from torch import nn, Tensor\n",
    "import torch.nn.functional as F\n",
    "from torch.nn import Sequential, Linear, ReLU\n",
    "from torch_geometric.nn import SGConv\n",
    "import networkx as nx\n",
    "\n",
    "from typing import List\n",
    "import requests, gzip, shutil, tarfile\n",
    "from pathlib import Path"
   ]
  },
  {
   "cell_type": "markdown",
   "id": "6639ca13-9b5a-4c58-801f-3373163d83ec",
   "metadata": {},
   "source": [
    "# Data"
   ]
  },
  {
   "cell_type": "code",
   "execution_count": 314,
   "id": "45780328-57e6-4661-84af-4a7475b077f8",
   "metadata": {},
   "outputs": [],
   "source": [
    "def download_graph_edge_list(target_dir):\n",
    "    \n",
    "    path = Path(target_dir)\n",
    "    \n",
    "    url = 'https://dataverse.harvard.edu/api/access/datafile/6934319'\n",
    "    r = requests.get(url)\n",
    "\n",
    "    with open(path.joinpath(\"go.tar.gz\"), \"wb\") as f:\n",
    "        f.write(r.content)\n",
    "    f.close()\n",
    "\n",
    "    f = tarfile.open(path.joinpath('go.tar.gz'))\n",
    "    f.extractall(path) \n",
    "    f.close()\n",
    "    \n",
    "\n",
    "def create_graph(filepath, topn=10, nrows=None):\n",
    "    \n",
    "    go_ = pd.read_csv(filepath, nrows=nrows)\n",
    "\n",
    "    go = go_.groupby('target').apply(lambda x: x.nlargest(topn + 1, ['importance'])).reset_index(drop = True)\n",
    "\n",
    "    gene_list = list(set(go.source.tolist() + go.target.tolist()))\n",
    "    gene2idx = {g:i for i,g in enumerate(gene_list)}\n",
    "\n",
    "    G = nx.from_pandas_edgelist(go, source='source',target='target', edge_attr=['importance'], create_using=nx.DiGraph())\n",
    "\n",
    "    edge_index_ = [(gene2idx[e[0]], gene2idx[e[1]]) for e in G.edges]\n",
    "    edge_index = torch.tensor(edge_index_, dtype=torch.long).T\n",
    "\n",
    "    edge_attr = nx.get_edge_attributes(G, 'importance') \n",
    "    edge_weight = torch.Tensor(np.array([edge_attr[e] for e in G.edges]))\n",
    "\n",
    "    return edge_index, edge_weight, gene_list, gene2idx\n"
   ]
  },
  {
   "cell_type": "code",
   "execution_count": null,
   "id": "82d38fb2-9be3-49fc-9b48-6f66b97c6980",
   "metadata": {},
   "outputs": [],
   "source": [
    "# download graph data\n",
    "download_graph_edge_list(target_dir = '../data')"
   ]
  },
  {
   "cell_type": "code",
   "execution_count": 569,
   "id": "27c709b6-14d1-4995-a2be-4363934a9f9f",
   "metadata": {},
   "outputs": [
    {
     "name": "stdout",
     "output_type": "stream",
     "text": [
      "tensor([[1, 1, 1, 1, 1, 1, 1, 1, 1, 1],\n",
      "        [1, 9, 0, 8, 2, 3, 4, 6, 7, 5]])\n",
      "tensor([1.0000, 0.1304, 0.1333, 0.2500, 0.1250, 0.1739, 0.1250, 0.2222, 0.1176,\n",
      "        0.1200])\n",
      "['ACTR10', 'A1BG', 'ADAMTS20', 'ADAMTS3', 'ADAMTSL4', 'AGL', 'AEBP1', 'AGA', 'ACTR1B', 'ACLY']\n",
      "{'ACTR10': 0, 'A1BG': 1, 'ADAMTS20': 2, 'ADAMTS3': 3, 'ADAMTSL4': 4, 'AGL': 5, 'AEBP1': 6, 'AGA': 7, 'ACTR1B': 8, 'ACLY': 9}\n"
     ]
    }
   ],
   "source": [
    "# create graph\n",
    "edge_index, edge_weight, gene_list, gene2idx = create_graph('../data/go_essential_all/go_essential_all.csv', topn=10, nrows=10)\n",
    "print(edge_index)\n",
    "print(edge_weight)\n",
    "print(gene_list)\n",
    "print(gene2idx)"
   ]
  },
  {
   "cell_type": "markdown",
   "id": "876d02e3-bb21-43fb-877a-539b1170d5c1",
   "metadata": {},
   "source": [
    "# Model"
   ]
  },
  {
   "cell_type": "code",
   "execution_count": 448,
   "id": "2ce1163a-7fac-4ba5-b443-5f95d2e1e0f1",
   "metadata": {},
   "outputs": [],
   "source": [
    "class MLP(nn.Module):\n",
    "\n",
    "    def __init__(\n",
    "        self, \n",
    "        sizes: List[int] = None, \n",
    "        batch_norm: bool = True\n",
    "    ):\n",
    "\n",
    "        super().__init__()\n",
    "        self.sizes = sizes\n",
    "        self.batch_norm = batch_norm\n",
    "        \n",
    "        layers = []\n",
    "        for i in range(len(self.sizes) - 1):\n",
    "            \n",
    "            in_size = self.sizes[i]\n",
    "            out_size = self.sizes[i + 1]\n",
    "            \n",
    "            layers.extend([\n",
    "                nn.Linear(in_size, out_size),\n",
    "                nn.BatchNorm1d(out_size) if self.batch_norm else None,\n",
    "                nn.ReLU()\n",
    "            ])\n",
    "\n",
    "        self.layers = nn.Sequential(*[l for l in layers if l is not None])\n",
    "        \n",
    "    def forward(\n",
    "        self, \n",
    "        x: Tensor\n",
    "    ):\n",
    "        return self.layers(x)"
   ]
  },
  {
   "cell_type": "code",
   "execution_count": 565,
   "id": "df2d97ff-6111-4ec2-bf22-95fb4101574f",
   "metadata": {},
   "outputs": [],
   "source": [
    "class GNN(nn.Module):\n",
    "\n",
    "    def __init__(\n",
    "        self, \n",
    "        genes: int,\n",
    "        seq_len: int, # n_cell (this is a fixed value for all genes)\n",
    "        d_hid: int,\n",
    "        edge_index: Tensor,\n",
    "        edge_weight: Tensor,\n",
    "        gene2idx: dict,\n",
    "        n_gnn_layers: int,\n",
    "        device: str = 'cpu',\n",
    "    ):\n",
    "\n",
    "        super().__init__()   \n",
    "        self.genes = genes\n",
    "        self.n_genes = len(genes)\n",
    "        self.seq_len = seq_len\n",
    "        self.d_hid = d_hid if d_hid < 8*(seq_len//32) else 8*(seq_len//32)\n",
    "        self.d_emb = seq_len + 1\n",
    "        self.edge_index = edge_index\n",
    "        self.edge_weight = edge_weight\n",
    "        self.gene2idx = gene2idx\n",
    "        self.device = device\n",
    "\n",
    "        ### GNN layers\n",
    "        self.n_gnn_layers = n_gnn_layers\n",
    "        self.edge_index = edge_index\n",
    "        self.edge_weight = edge_weight.to(self.device)\n",
    "        self.gnn_layers = torch.nn.ModuleList()\n",
    "        for i in range(1, self.n_gnn_layers+1):\n",
    "            self.gnn_layers.append(SGConv(self.d_emb, self.d_emb, 1))\n",
    "            \n",
    "        ### attention layer\n",
    "        self.attn = nn.MultiheadAttention(self.d_emb, 1, dropout=0.1, bias=True)\n",
    "\n",
    "        # decoder layer\n",
    "        self.decoder = MLP([self.d_emb, d_hid*2, d_hid*2, d_hid*4], batch_norm=False)\n",
    "        self.output = nn.Linear(d_hid*4, seq_len)\n",
    "        \n",
    "        def get_cell_emb(self, emb):\n",
    "            self.attn(emb)\n",
    "        \n",
    "\n",
    "    def forward(\n",
    "        self, \n",
    "        src: Tensor,\n",
    "        pert_gene: str, # TODO: batch\n",
    "    ):\n",
    "       \n",
    "        pert_idx = self.gene2idx[pert_gene]\n",
    "        ## pertubation embedding\n",
    "        pert_emb = torch.zeros((self.n_genes, 1)) # n_gene, 1\n",
    "        pert_emb[pert_idx, :] = 1 \n",
    "\n",
    "        ## node feature\n",
    "        emb = torch.concat((src, pert_emb), dim=1) # n_gene, seq_len+1\n",
    "\n",
    "        ## augment global perturbation embedding with GNN\n",
    "        for i, gnn in enumerate(self.gnn_layers):\n",
    "            emb = gnn(emb, self.edge_index, self.edge_weight)\n",
    "            if i < self.n_gnn_layers - 1:\n",
    "                emb = emb.relu()\n",
    "\n",
    "        ## attention\n",
    "        attn_output, attn_weights = self.attn(emb, emb, emb)        \n",
    "        cell_emb = torch.matmul(attn_weights[pert_idx, :], emb).reshape(1, -1)\n",
    "        \n",
    "        ## output\n",
    "        return self.output(self.decoder(cell_emb))\n"
   ]
  },
  {
   "cell_type": "code",
   "execution_count": 566,
   "id": "36de3f6c-7336-42d5-bd6d-7a3379eef5ed",
   "metadata": {},
   "outputs": [
    {
     "data": {
      "text/plain": [
       "tensor([[-0.1156, -0.0120,  0.3801]], grad_fn=<AddmmBackward0>)"
      ]
     },
     "execution_count": 566,
     "metadata": {},
     "output_type": "execute_result"
    }
   ],
   "source": [
    "model = GNN(\n",
    "    genes = gene_list, \n",
    "    seq_len = 3, \n",
    "    d_hid = 2, \n",
    "    edge_index = edge_index, \n",
    "    edge_weight = edge_weight, \n",
    "    gene2idx = gene2idx, \n",
    "    n_gnn_layers = 3,\n",
    "   )\n",
    "\n",
    "model(src, pert_gene='ADAMTS3')"
   ]
  },
  {
   "cell_type": "code",
   "execution_count": 564,
   "id": "5bda5e6b-3e76-45f3-bab7-07d29bf23b9c",
   "metadata": {},
   "outputs": [
    {
     "data": {
      "text/plain": [
       "tensor([ 0.7878, -1.3893, -0.4456])"
      ]
     },
     "execution_count": 564,
     "metadata": {},
     "output_type": "execute_result"
    }
   ],
   "source": [
    "src[gene2idx['ADAMTS3'], :]"
   ]
  },
  {
   "cell_type": "code",
   "execution_count": null,
   "id": "7df1e713-a86a-4693-a413-5186a09ec709",
   "metadata": {},
   "outputs": [],
   "source": []
  }
 ],
 "metadata": {
  "kernelspec": {
   "display_name": "Python 3 (ipykernel)",
   "language": "python",
   "name": "python3"
  },
  "language_info": {
   "codemirror_mode": {
    "name": "ipython",
    "version": 3
   },
   "file_extension": ".py",
   "mimetype": "text/x-python",
   "name": "python",
   "nbconvert_exporter": "python",
   "pygments_lexer": "ipython3",
   "version": "3.9.13"
  }
 },
 "nbformat": 4,
 "nbformat_minor": 5
}
